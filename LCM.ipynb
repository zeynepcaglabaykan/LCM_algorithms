{
 "cells": [
  {
   "cell_type": "markdown",
   "id": "4f6630f0-aa06-4fd6-b9ca-f649ae346a70",
   "metadata": {},
   "source": [
    "# (LCM)Least Common Multiple"
   ]
  },
  {
   "cell_type": "markdown",
   "id": "43237c34-c56e-4b62-a22c-cbaaee547596",
   "metadata": {},
   "source": [
    "### A.) Find LCM by Listing Multiples:\n",
    "- List the multiples of each number until at least one of the multiples appears on all lists\n",
    "- Find the smallest number that is on all of the lists\n",
    "- This number is the LCM <br>\n",
    "EX: LCM(6, 7, 21)\n"
   ]
  },
  {
   "cell_type": "code",
   "execution_count": 140,
   "id": "ddbb8275-c945-4178-9cda-83595a1e0276",
   "metadata": {},
   "outputs": [
    {
     "name": "stdout",
     "output_type": "stream",
     "text": [
      "LCM: 2\n"
     ]
    }
   ],
   "source": [
    "lcm_list = [6,7,21]\n",
    "l1, l2, l3 = [2],[2],[2]\n",
    "all_lcm = []\n",
    "for x in range(1,8): # step 1\n",
    "    l1.append(x * lcm_list[0])\n",
    "    l2.append(x * lcm_list[1])\n",
    "    l3.append(x * lcm_list[2])\n",
    "    \n",
    "for num in l1 and l2 and l3:\n",
    "    if num in l1 and l2 and l3:\n",
    "        all_lcm.append(num)  # step 2\n",
    "print('LCM:', min(all_lcm))  # step 3\n",
    "        "
   ]
  },
  {
   "cell_type": "markdown",
   "id": "9f32b77d-64f2-4e05-87e0-21c86e61283a",
   "metadata": {},
   "source": [
    "### B.) Find LCM by Prime Factorization:\n",
    "- Find all the prime factors of each given number.\n",
    "- List all the prime numbers found, as many times as they occur most often for any one given number.\n",
    "- Multiply the list of prime factors together to find the LCM."
   ]
  },
  {
   "cell_type": "code",
   "execution_count": 213,
   "id": "1fca96ed-9673-42c6-8039-0a0104faa68c",
   "metadata": {},
   "outputs": [
    {
     "name": "stdout",
     "output_type": "stream",
     "text": [
      "[2, 2, 2, 3]\n",
      "Number Count:  3\n",
      "Number:  2\n",
      "[2, 2, 3, 5, 5]\n",
      "Number Count:  2\n",
      "Number:  2\n",
      "calculate list:  [2, 2, 2, 2, 2]\n",
      "32\n"
     ]
    }
   ],
   "source": [
    "lcm_list = [24, 300]  # 12 -> 2,2,3 | 30 -> 2,3,5\n",
    "prime_factors_list = []  # [[2, 2, 3], [2, 3, 5]]\n",
    "result = 1\n",
    "\n",
    "def prime_factors(n):  # step 1\n",
    "    i = 2\n",
    "    factors = []\n",
    "    while i * i <= n:\n",
    "        if n % i:\n",
    "            i += 1\n",
    "        else:\n",
    "            n //= i\n",
    "            factors.append(i)\n",
    "    if n > 1:\n",
    "        factors.append(n)\n",
    "    return factors\n",
    "\n",
    "\n",
    "for num in lcm_list:\n",
    "    prime_factors_list.append(prime_factors(num))\n",
    "\n",
    "\n",
    "\n",
    "check_set = []    # step2\n",
    "num_count_0= {}\n",
    "\n",
    "for i in range(len(prime_factors_list)):  # identify prime numbers\n",
    "    for j in prime_factors_list[i]:\n",
    "        check_set.append(j)\n",
    "check_set = set(check_set)\n",
    "\n",
    "a = 0 \n",
    "while a < len(lcm_list) :\n",
    "    for num in check_set:\n",
    "        if num in prime_factors_list[a]:\n",
    "            count = prime_factors_list[a].count(num)\n",
    "            if num in num_count_0.keys():\n",
    "                if num_count_0[num] < count:\n",
    "                    num_count_0[num] == count\n",
    "            else:\n",
    "                num_count = {num : count}\n",
    "                (num_count_0).update(num_count)\n",
    "        else:\n",
    "            pass\n",
    "    a += 1\n",
    "\n",
    "for i in num_count_0.keys():    # step3\n",
    "    result = result * (i ** num_count_0[i])   \n",
    "        \n",
    "print('LCM: ',result)"
   ]
  }
 ],
 "metadata": {
  "kernelspec": {
   "display_name": "Python 3 (ipykernel)",
   "language": "python",
   "name": "python3"
  },
  "language_info": {
   "codemirror_mode": {
    "name": "ipython",
    "version": 3
   },
   "file_extension": ".py",
   "mimetype": "text/x-python",
   "name": "python",
   "nbconvert_exporter": "python",
   "pygments_lexer": "ipython3",
   "version": "3.9.12"
  }
 },
 "nbformat": 4,
 "nbformat_minor": 5
}
